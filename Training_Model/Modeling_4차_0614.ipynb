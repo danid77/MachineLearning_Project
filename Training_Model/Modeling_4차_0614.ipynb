{
  "cells": [
    {
      "cell_type": "markdown",
      "metadata": {
        "id": "view-in-github",
        "colab_type": "text"
      },
      "source": [
        "<a href=\"https://colab.research.google.com/github/msmsm104/MachineLearning_Project/blob/main/Training_Model/Modeling_4%E1%84%8E%E1%85%A1_0614.ipynb\" target=\"_parent\"><img src=\"https://colab.research.google.com/assets/colab-badge.svg\" alt=\"Open In Colab\"/></a>"
      ]
    },
    {
      "cell_type": "markdown",
      "metadata": {
        "id": "yrWFaGB6n0Tv"
      },
      "source": [
        "# ML_Project(Modeling_4)\n",
        "\n",
        "     => 데이터 전처리 방식에 문제가 있다는 것을 인지.\n",
        "     => 가장 기본적으로 matchId, groupId를 기준으로 column별 평균, 평균의 rank 값으로만 전처리된 데이터로 모델링 진행."
      ]
    },
    {
      "cell_type": "code",
      "source": [
        "from google.colab import drive\n",
        "drive.mount('/content/drive')"
      ],
      "metadata": {
        "colab": {
          "base_uri": "https://localhost:8080/"
        },
        "id": "49_Rkvpdk9-p",
        "outputId": "66d62238-7b5c-45ad-8c6a-959cb7be464b"
      },
      "execution_count": 1,
      "outputs": [
        {
          "output_type": "stream",
          "name": "stdout",
          "text": [
            "Mounted at /content/drive\n"
          ]
        }
      ]
    },
    {
      "cell_type": "code",
      "execution_count": 2,
      "metadata": {
        "id": "CNOka9jc5Fb7"
      },
      "outputs": [],
      "source": [
        "import numpy as np\n",
        "import pandas as pd\n",
        "import matplotlib.pyplot as plt\n",
        "import seaborn as sns"
      ]
    },
    {
      "cell_type": "code",
      "execution_count": 3,
      "metadata": {
        "id": "e2qeesV_5OAV"
      },
      "outputs": [],
      "source": [
        "base_path = '/content/drive/MyDrive/Colab Notebooks/이어드림스쿨/TIL(Today I Learned)/20220607/ML-project/data/Interim/'"
      ]
    },
    {
      "cell_type": "markdown",
      "metadata": {
        "id": "_iDGku7noLd8"
      },
      "source": [
        "## data optimize\n",
        "#### train data set의 row가 400만개 이상이므로 Kaggle에서 제공하는 코드를 통해 data의 memory usage를 줄인 다음 modeling 작업을 진행한다. (그렇지 않는다면 중간에 kernel이 끊기는 문제가 발생할 수 있다.)\n",
        "#### 좀 더 코드를 간소화하기 위해 train_test_split과 modeling과정을 함수로 정의하고 적용."
      ]
    },
    {
      "cell_type": "code",
      "execution_count": 4,
      "metadata": {
        "id": "dDKEFYfw5wzX"
      },
      "outputs": [],
      "source": [
        "# Memory saving function credit to https://www.kaggle.com/gemartin/load-data-reduce-memory-usage\n",
        "def reduce_mem_usage(df):\n",
        "    \"\"\" iterate through all the columns of a dataframe and modify the data type\n",
        "        to reduce memory usage.        \n",
        "    \"\"\"\n",
        "    start_mem = df.memory_usage().sum() / 1024**2\n",
        "    print('Memory usage of dataframe is {:.2f} MB'.format(start_mem))\n",
        "\n",
        "    for col in df.columns:\n",
        "        col_type = df[col].dtype\n",
        "\n",
        "        if col_type != object:\n",
        "            c_min = df[col].min()\n",
        "            c_max = df[col].max()\n",
        "            if str(col_type)[:3] == 'int':\n",
        "                if c_min > np.iinfo(np.int8).min and c_max < np.iinfo(np.int8).max:\n",
        "                    df[col] = df[col].astype(np.int8)\n",
        "                elif c_min > np.iinfo(np.int16).min and c_max < np.iinfo(np.int16).max:\n",
        "                    df[col] = df[col].astype(np.int16)\n",
        "                elif c_min > np.iinfo(np.int32).min and c_max < np.iinfo(np.int32).max:\n",
        "                    df[col] = df[col].astype(np.int32)\n",
        "                elif c_min > np.iinfo(np.int64).min and c_max < np.iinfo(np.int64).max:\n",
        "                    df[col] = df[col].astype(np.int64)  \n",
        "            else:\n",
        "                if c_min > np.finfo(np.float16).min and c_max < np.finfo(np.float16).max:\n",
        "                    df[col] = df[col].astype(np.float16)\n",
        "                elif c_min > np.finfo(np.float32).min and c_max < np.finfo(np.float32).max:\n",
        "                    df[col] = df[col].astype(np.float32)\n",
        "                else:\n",
        "                    df[col] = df[col].astype(np.float64)\n",
        "\n",
        "    end_mem = df.memory_usage().sum() / 1024**2\n",
        "    print('Memory usage after optimization is: {:.2f} MB'.format(end_mem))\n",
        "    print('Decreased by {:.1f}%'.format(100 * (start_mem - end_mem) / start_mem))\n",
        "\n",
        "    return df"
      ]
    },
    {
      "cell_type": "markdown",
      "metadata": {
        "id": "dHNqc-ft20j7"
      },
      "source": [
        "## Load data"
      ]
    },
    {
      "cell_type": "code",
      "execution_count": 5,
      "metadata": {
        "colab": {
          "base_uri": "https://localhost:8080/"
        },
        "id": "cT7j_v4a5lUj",
        "outputId": "8a76927b-1461-4261-f845-3b1cc4189f41"
      },
      "outputs": [
        {
          "output_type": "stream",
          "name": "stdout",
          "text": [
            "Memory usage of dataframe is 726.75 MB\n",
            "Memory usage after optimization is: 181.69 MB\n",
            "Decreased by 75.0%\n"
          ]
        }
      ],
      "source": [
        "train_4 = reduce_mem_usage(pd.read_csv(base_path + 'featured_train_4.csv')) ## 4차 전처리 데이터\n"
      ]
    },
    {
      "cell_type": "markdown",
      "metadata": {
        "id": "0RIjRXkd3F-S"
      },
      "source": [
        "## train_test_split"
      ]
    },
    {
      "cell_type": "code",
      "execution_count": 6,
      "metadata": {
        "id": "A5rfsQciRmLU"
      },
      "outputs": [],
      "source": [
        "from sklearn.model_selection import train_test_split\n",
        "\n",
        "def check_error(model_, data_):\n",
        "\n",
        "    X = data_.drop(columns = 'winPlacePerc')\n",
        "    y = data_['winPlacePerc']\n",
        "\n",
        "    X_train, X_test, y_train, y_test = train_test_split(X, y, test_size=0.2, random_state=100)\n",
        "\n",
        "    model = model_\n",
        "    model.fit(X_train, y_train)\n",
        "    pred = model.predict(X_test)\n",
        "    return mean_absolute_error(y_test, pred)"
      ]
    },
    {
      "cell_type": "markdown",
      "metadata": {
        "id": "6FiprB67Tgw1"
      },
      "source": [
        "## Modeling\n",
        "\n",
        "    - LinearRegression\n",
        "    - Lasso\n",
        "    - Ridge\n",
        "    - SVR(x)\n",
        "    - KNeighborsRegressor(x)\n",
        "    - DecisionTreeRegressor(x)\n",
        "    - LGBMRegressor\n",
        "    - RandomForestRegressor\n",
        "    - XGBRegressor\n",
        "    - CatBoostRegressor(x)"
      ]
    },
    {
      "cell_type": "code",
      "execution_count": 7,
      "metadata": {
        "id": "vdHTNRRL8AvX"
      },
      "outputs": [],
      "source": [
        "from sklearn.linear_model import LinearRegression\n",
        "from sklearn.linear_model import Lasso\n",
        "from sklearn.linear_model import Ridge\n",
        "\n",
        "# from sklearn.svm import SVR\n",
        "# from sklearn.neighbors import KNeighborsRegressor\n",
        "# from sklearn.tree import DecisionTreeRegressor\n",
        "\n",
        "from lightgbm.sklearn import LGBMRegressor\n",
        "from sklearn.ensemble import RandomForestRegressor\n",
        "from xgboost import XGBRegressor\n",
        "# from catboost import CatBoostRegressor\n",
        "\n",
        "from sklearn.metrics import mean_absolute_error\n",
        "\n",
        "## Linear Reg, Lasso, Ridge, LGBMRegressor, RandomFor, XGBReg, CatBoost"
      ]
    },
    {
      "cell_type": "markdown",
      "metadata": {
        "id": "Aw0FvzMcFKvm"
      },
      "source": [
        "### Linear Regression"
      ]
    },
    {
      "cell_type": "code",
      "execution_count": 8,
      "metadata": {
        "colab": {
          "base_uri": "https://localhost:8080/"
        },
        "id": "AZDtMMFtSBJG",
        "outputId": "853c4a49-00db-4217-cb75-fa75fb11275d"
      },
      "outputs": [
        {
          "output_type": "stream",
          "name": "stdout",
          "text": [
            "MAE of LinearRegression: 0.0581\n"
          ]
        }
      ],
      "source": [
        "result_1 = check_error(LinearRegression(), train_4)\n",
        "\n",
        "\n",
        "print(f\"MAE of LinearRegression: {result_1:.4f}\")\n",
        "\n",
        "# print(f\"Difference : {result_2 - result_1:.4f}\")"
      ]
    },
    {
      "cell_type": "markdown",
      "metadata": {
        "id": "I8EnQQxfFNak"
      },
      "source": [
        "### Lasso"
      ]
    },
    {
      "cell_type": "code",
      "execution_count": 9,
      "metadata": {
        "colab": {
          "base_uri": "https://localhost:8080/"
        },
        "id": "gD8i_HW4CLK9",
        "outputId": "4e5fa498-0280-4bcc-cb46-91d0ad846801"
      },
      "outputs": [
        {
          "output_type": "stream",
          "name": "stdout",
          "text": [
            "MAE of Lasso_1: 0.1148\n"
          ]
        }
      ],
      "source": [
        "result_1 = check_error(Lasso(), train_4)\n",
        "\n",
        "print(f\"MAE of Lasso_1: {result_1:.4f}\")\n",
        "\n",
        "\n",
        "# print(f\"Difference : {result_2 - result_1:.4f}\")"
      ]
    },
    {
      "cell_type": "markdown",
      "metadata": {
        "id": "XayTBlaDFPuc"
      },
      "source": [
        "### Ridge"
      ]
    },
    {
      "cell_type": "code",
      "execution_count": 10,
      "metadata": {
        "colab": {
          "base_uri": "https://localhost:8080/"
        },
        "id": "WVIMnoP3T5WM",
        "outputId": "6d9852eb-da6c-486b-e6ef-cd0fac97cf7a"
      },
      "outputs": [
        {
          "output_type": "stream",
          "name": "stdout",
          "text": [
            "MAE of Ridge_1: 0.0581\n"
          ]
        }
      ],
      "source": [
        "result_1 = check_error(Ridge(), train_4)\n",
        "\n",
        "print(f\"MAE of Ridge_1: {result_1:.4f}\")\n",
        "\n",
        "# print(f\"Difference : {result_2 - result_1:.4f}\")"
      ]
    },
    {
      "cell_type": "markdown",
      "metadata": {
        "id": "DUiWaNVLFRqh"
      },
      "source": [
        "### lightGBM"
      ]
    },
    {
      "cell_type": "code",
      "execution_count": 11,
      "metadata": {
        "colab": {
          "base_uri": "https://localhost:8080/"
        },
        "id": "LUGN-i51UHXj",
        "outputId": "c40b008a-f844-48a5-909c-5d92946959fb"
      },
      "outputs": [
        {
          "output_type": "stream",
          "name": "stdout",
          "text": [
            "MAE of LGBMRegressor_1: 0.0467\n"
          ]
        }
      ],
      "source": [
        "result_1 = check_error(LGBMRegressor(), train_4)\n",
        "\n",
        "\n",
        "print(f\"MAE of LGBMRegressor_1: {result_1:.4f}\")\n",
        "\n",
        "# print(f\"Difference : {result_2 - result_1:.4f}\")"
      ]
    },
    {
      "cell_type": "markdown",
      "metadata": {
        "id": "vNJqHbmZVQnD"
      },
      "source": [
        "## 4차 전처리 데이터 분석.\n",
        "\n",
        "    => 이상치, 컬럼 제거를 제외하고 matchId, groupId를 기준으로 컬럼값의 평균, 평균랭크값을 기반으로 모델의 학습을 진행.\n",
        "    \n",
        "    \n",
        "    => 가장 성능이 괜찮은 모델, 분석하고 싶은 모델을 기반으로 hyper-parameter tuning을 통한 성능 개선 작업 시행 예정."
      ]
    },
    {
      "cell_type": "code",
      "source": [
        ""
      ],
      "metadata": {
        "id": "lcVt42qho60k"
      },
      "execution_count": null,
      "outputs": []
    }
  ],
  "metadata": {
    "colab": {
      "collapsed_sections": [],
      "name": "Modeling_4차_0614.ipynb",
      "provenance": [],
      "include_colab_link": true
    },
    "kernelspec": {
      "display_name": "Python 3 (ipykernel)",
      "language": "python",
      "name": "python3"
    },
    "language_info": {
      "codemirror_mode": {
        "name": "ipython",
        "version": 3
      },
      "file_extension": ".py",
      "mimetype": "text/x-python",
      "name": "python",
      "nbconvert_exporter": "python",
      "pygments_lexer": "ipython3",
      "version": "3.8.13"
    }
  },
  "nbformat": 4,
  "nbformat_minor": 0
}
{
  "cells": [
    {
      "cell_type": "markdown",
      "metadata": {
        "id": "view-in-github",
        "colab_type": "text"
      },
      "source": [
        "<a href=\"https://colab.research.google.com/github/msmsm104/MachineLearning_Project/blob/main/Training_Model/Modeling_4%E1%84%8E%E1%85%A1_0614.ipynb\" target=\"_parent\"><img src=\"https://colab.research.google.com/assets/colab-badge.svg\" alt=\"Open In Colab\"/></a>"
      ]
    },
    {
      "cell_type": "markdown",
      "metadata": {
        "id": "yrWFaGB6n0Tv"
      },
      "source": [
        "# ML_Project(Modeling_4)\n",
        "\n",
        "     => 데이터 전처리 방식에 문제가 있다는 것을 인지.\n",
        "     => 가장 기본적으로 matchId, groupId를 기준으로 column별 평균, 평균의 rank 값으로만 전처리된 데이터로 모델링 진행."
      ]
    },
    {
      "cell_type": "code",
      "source": [
        "from google.colab import drive\n",
        "drive.mount('/content/drive')"
      ],
      "metadata": {
        "colab": {
          "base_uri": "https://localhost:8080/"
        },
        "id": "49_Rkvpdk9-p",
        "outputId": "66d62238-7b5c-45ad-8c6a-959cb7be464b"
      },
      "execution_count": 1,
      "outputs": [
        {
          "output_type": "stream",
          "name": "stdout",
          "text": [
            "Mounted at /content/drive\n"
          ]
        }
      ]
    },
    {
      "cell_type": "code",
      "execution_count": 2,
      "metadata": {
        "id": "CNOka9jc5Fb7"
      },
      "outputs": [],
      "source": [
        "import numpy as np\n",
        "import pandas as pd\n",
        "import matplotlib.pyplot as plt\n",
        "import seaborn as sns"
      ]
    },
    {
      "cell_type": "code",
      "execution_count": 3,
      "metadata": {
        "id": "e2qeesV_5OAV"
      },
      "outputs": [],
      "source": [
        "base_path = '/content/drive/MyDrive/Colab Notebooks/이어드림스쿨/TIL(Today I Learned)/20220607/ML-project/data/Interim/'"
      ]
    },
    {
      "cell_type": "markdown",
      "metadata": {
        "id": "_iDGku7noLd8"
      },
      "source": [
        "## data optimize\n",
        "#### train data set의 row가 400만개 이상이므로 Kaggle에서 제공하는 코드를 통해 data의 memory usage를 줄인 다음 modeling 작업을 진행한다. (그렇지 않는다면 중간에 kernel이 끊기는 문제가 발생할 수 있다.)\n",
        "#### 좀 더 코드를 간소화하기 위해 train_test_split과 modeling과정을 함수로 정의하고 적용."
      ]
    },
    {
      "cell_type": "code",
      "execution_count": 4,
      "metadata": {
        "id": "dDKEFYfw5wzX"
      },
      "outputs": [],
      "source": [
        "# Memory saving function credit to https://www.kaggle.com/gemartin/load-data-reduce-memory-usage\n",
        "def reduce_mem_usage(df):\n",
        "    \"\"\" iterate through all the columns of a dataframe and modify the data type\n",
        "        to reduce memory usage.        \n",
        "    \"\"\"\n",
        "    start_mem = df.memory_usage().sum() / 1024**2\n",
        "    print('Memory usage of dataframe is {:.2f} MB'.format(start_mem))\n",
        "\n",
        "    for col in df.columns:\n",
        "        col_type = df[col].dtype\n",
        "\n",
        "        if col_type != object:\n",
        "            c_min = df[col].min()\n",
        "            c_max = df[col].max()\n",
        "            if str(col_type)[:3] == 'int':\n",
        "                if c_min > np.iinfo(np.int8).min and c_max < np.iinfo(np.int8).max:\n",
        "                    df[col] = df[col].astype(np.int8)\n",
        "                elif c_min > np.iinfo(np.int16).min and c_max < np.iinfo(np.int16).max:\n",
        "                    df[col] = df[col].astype(np.int16)\n",
        "                elif c_min > np.iinfo(np.int32).min and c_max < np.iinfo(np.int32).max:\n",
        "                    df[col] = df[col].astype(np.int32)\n",
        "                elif c_min > np.iinfo(np.int64).min and c_max < np.iinfo(np.int64).max:\n",
        "                    df[col] = df[col].astype(np.int64)  \n",
        "            else:\n",
        "                if c_min > np.finfo(np.float16).min and c_max < np.finfo(np.float16).max:\n",
        "                    df[col] = df[col].astype(np.float16)\n",
        "                elif c_min > np.finfo(np.float32).min and c_max < np.finfo(np.float32).max:\n",
        "                    df[col] = df[col].astype(np.float32)\n",
        "                else:\n",
        "                    df[col] = df[col].astype(np.float64)\n",
        "\n",
        "    end_mem = df.memory_usage().sum() / 1024**2\n",
        "    print('Memory usage after optimization is: {:.2f} MB'.format(end_mem))\n",
        "    print('Decreased by {:.1f}%'.format(100 * (start_mem - end_mem) / start_mem))\n",
        "\n",
        "    return df"
      ]
    },
    {
      "cell_type": "markdown",
      "metadata": {
        "id": "dHNqc-ft20j7"
      },
      "source": [
        "## Load data"
      ]
    },
    {
      "cell_type": "code",
      "execution_count": 5,
      "metadata": {
        "colab": {
          "base_uri": "https://localhost:8080/"
        },
        "id": "cT7j_v4a5lUj",
        "outputId": "8a76927b-1461-4261-f845-3b1cc4189f41"
      },
      "outputs": [
        {
          "output_type": "stream",
          "name": "stdout",
          "text": [
            "Memory usage of dataframe is 726.75 MB\n",
            "Memory usage after optimization is: 181.69 MB\n",
            "Decreased by 75.0%\n"
          ]
        }
      ],
      "source": [
        "train_4 = reduce_mem_usage(pd.read_csv(base_path + 'featured_train_4.csv')) ## 4차 전처리 데이터\n"
      ]
    },
    {
      "cell_type": "markdown",
      "metadata": {
        "id": "0RIjRXkd3F-S"
      },
      "source": [
        "## train_test_split"
      ]
    },
    {
      "cell_type": "code",
      "execution_count": 6,
      "metadata": {
        "id": "A5rfsQciRmLU"
      },
      "outputs": [],
      "source": [
        "from sklearn.model_selection import train_test_split\n",
        "\n",
        "def check_error(model_, data_):\n",
        "\n",
        "    X = data_.drop(columns = 'winPlacePerc')\n",
        "    y = data_['winPlacePerc']\n",
        "\n",
        "    X_train, X_test, y_train, y_test = train_test_split(X, y, test_size=0.2, random_state=100)\n",
        "\n",
        "    model = model_\n",
        "    model.fit(X_train, y_train)\n",
        "    pred = model.predict(X_test)\n",
        "    return mean_absolute_error(y_test, pred)"
      ]
    },
    {
      "cell_type": "markdown",
      "metadata": {
        "id": "a-K2meTCD6y6"
      },
      "source": [
        "### Installing CatBoost"
      ]
    },
    {
      "cell_type": "code",
      "execution_count": null,
      "metadata": {
        "colab": {
          "base_uri": "https://localhost:8080/"
        },
        "id": "vGtSTTYSE6Kw",
        "outputId": "142811aa-8740-42b7-83b3-1d9d8c8cba8c"
      },
      "outputs": [
        {
          "name": "stdout",
          "output_type": "stream",
          "text": [
            "Looking in indexes: https://pypi.org/simple, https://us-python.pkg.dev/colab-wheels/public/simple/\n",
            "Collecting catboost\n",
            "  Downloading catboost-1.0.6-cp37-none-manylinux1_x86_64.whl (76.6 MB)\n",
            "\u001b[K     |████████████████████████████████| 76.6 MB 1.3 MB/s \n",
            "\u001b[?25hRequirement already satisfied: numpy>=1.16.0 in /usr/local/lib/python3.7/dist-packages (from catboost) (1.21.6)\n",
            "Requirement already satisfied: pandas>=0.24.0 in /usr/local/lib/python3.7/dist-packages (from catboost) (1.3.5)\n",
            "Requirement already satisfied: graphviz in /usr/local/lib/python3.7/dist-packages (from catboost) (0.10.1)\n",
            "Requirement already satisfied: scipy in /usr/local/lib/python3.7/dist-packages (from catboost) (1.4.1)\n",
            "Requirement already satisfied: plotly in /usr/local/lib/python3.7/dist-packages (from catboost) (5.5.0)\n",
            "Requirement already satisfied: six in /usr/local/lib/python3.7/dist-packages (from catboost) (1.15.0)\n",
            "Requirement already satisfied: matplotlib in /usr/local/lib/python3.7/dist-packages (from catboost) (3.2.2)\n",
            "Requirement already satisfied: python-dateutil>=2.7.3 in /usr/local/lib/python3.7/dist-packages (from pandas>=0.24.0->catboost) (2.8.2)\n",
            "Requirement already satisfied: pytz>=2017.3 in /usr/local/lib/python3.7/dist-packages (from pandas>=0.24.0->catboost) (2022.1)\n",
            "Requirement already satisfied: pyparsing!=2.0.4,!=2.1.2,!=2.1.6,>=2.0.1 in /usr/local/lib/python3.7/dist-packages (from matplotlib->catboost) (3.0.9)\n",
            "Requirement already satisfied: cycler>=0.10 in /usr/local/lib/python3.7/dist-packages (from matplotlib->catboost) (0.11.0)\n",
            "Requirement already satisfied: kiwisolver>=1.0.1 in /usr/local/lib/python3.7/dist-packages (from matplotlib->catboost) (1.4.2)\n",
            "Requirement already satisfied: typing-extensions in /usr/local/lib/python3.7/dist-packages (from kiwisolver>=1.0.1->matplotlib->catboost) (4.2.0)\n",
            "Requirement already satisfied: tenacity>=6.2.0 in /usr/local/lib/python3.7/dist-packages (from plotly->catboost) (8.0.1)\n",
            "Installing collected packages: catboost\n",
            "Successfully installed catboost-1.0.6\n"
          ]
        }
      ],
      "source": [
        "!pip install catboost"
      ]
    },
    {
      "cell_type": "markdown",
      "metadata": {
        "id": "6FiprB67Tgw1"
      },
      "source": [
        "## Modeling\n",
        "\n",
        "    - LinearRegression\n",
        "    - Lasso\n",
        "    - Ridge\n",
        "    - SVR(x)\n",
        "    - KNeighborsRegressor(x)\n",
        "    - DecisionTreeRegressor(x)\n",
        "    - LGBMRegressor\n",
        "    - RandomForestRegressor\n",
        "    - XGBRegressor\n",
        "    - CatBoostRegressor(x)"
      ]
    },
    {
      "cell_type": "code",
      "execution_count": 7,
      "metadata": {
        "id": "vdHTNRRL8AvX"
      },
      "outputs": [],
      "source": [
        "from sklearn.linear_model import LinearRegression\n",
        "from sklearn.linear_model import Lasso\n",
        "from sklearn.linear_model import Ridge\n",
        "\n",
        "# from sklearn.svm import SVR\n",
        "# from sklearn.neighbors import KNeighborsRegressor\n",
        "# from sklearn.tree import DecisionTreeRegressor\n",
        "\n",
        "from lightgbm.sklearn import LGBMRegressor\n",
        "from sklearn.ensemble import RandomForestRegressor\n",
        "from xgboost import XGBRegressor\n",
        "# from catboost import CatBoostRegressor\n",
        "\n",
        "from sklearn.metrics import mean_absolute_error\n",
        "\n",
        "## Linear Reg, Lasso, Ridge, LGBMRegressor, RandomFor, XGBReg, CatBoost"
      ]
    },
    {
      "cell_type": "markdown",
      "metadata": {
        "id": "Aw0FvzMcFKvm"
      },
      "source": [
        "### Linear Regression"
      ]
    },
    {
      "cell_type": "code",
      "execution_count": 8,
      "metadata": {
        "colab": {
          "base_uri": "https://localhost:8080/"
        },
        "id": "AZDtMMFtSBJG",
        "outputId": "853c4a49-00db-4217-cb75-fa75fb11275d"
      },
      "outputs": [
        {
          "output_type": "stream",
          "name": "stdout",
          "text": [
            "MAE of LinearRegression: 0.0581\n"
          ]
        }
      ],
      "source": [
        "result_1 = check_error(LinearRegression(), train_4)\n",
        "\n",
        "\n",
        "print(f\"MAE of LinearRegression: {result_1:.4f}\")\n",
        "\n",
        "# print(f\"Difference : {result_2 - result_1:.4f}\")"
      ]
    },
    {
      "cell_type": "markdown",
      "metadata": {
        "id": "I8EnQQxfFNak"
      },
      "source": [
        "### Lasso"
      ]
    },
    {
      "cell_type": "code",
      "execution_count": 9,
      "metadata": {
        "colab": {
          "base_uri": "https://localhost:8080/"
        },
        "id": "gD8i_HW4CLK9",
        "outputId": "4e5fa498-0280-4bcc-cb46-91d0ad846801"
      },
      "outputs": [
        {
          "output_type": "stream",
          "name": "stdout",
          "text": [
            "MAE of Lasso_1: 0.1148\n"
          ]
        }
      ],
      "source": [
        "result_1 = check_error(Lasso(), train_4)\n",
        "\n",
        "print(f\"MAE of Lasso_1: {result_1:.4f}\")\n",
        "\n",
        "\n",
        "# print(f\"Difference : {result_2 - result_1:.4f}\")"
      ]
    },
    {
      "cell_type": "markdown",
      "metadata": {
        "id": "XayTBlaDFPuc"
      },
      "source": [
        "### Ridge"
      ]
    },
    {
      "cell_type": "code",
      "execution_count": 10,
      "metadata": {
        "colab": {
          "base_uri": "https://localhost:8080/"
        },
        "id": "WVIMnoP3T5WM",
        "outputId": "6d9852eb-da6c-486b-e6ef-cd0fac97cf7a"
      },
      "outputs": [
        {
          "output_type": "stream",
          "name": "stdout",
          "text": [
            "MAE of Ridge_1: 0.0581\n"
          ]
        }
      ],
      "source": [
        "result_1 = check_error(Ridge(), train_4)\n",
        "\n",
        "print(f\"MAE of Ridge_1: {result_1:.4f}\")\n",
        "\n",
        "# print(f\"Difference : {result_2 - result_1:.4f}\")"
      ]
    },
    {
      "cell_type": "markdown",
      "metadata": {
        "id": "DUiWaNVLFRqh"
      },
      "source": [
        "### lightGBM"
      ]
    },
    {
      "cell_type": "code",
      "execution_count": 11,
      "metadata": {
        "colab": {
          "base_uri": "https://localhost:8080/"
        },
        "id": "LUGN-i51UHXj",
        "outputId": "c40b008a-f844-48a5-909c-5d92946959fb"
      },
      "outputs": [
        {
          "output_type": "stream",
          "name": "stdout",
          "text": [
            "MAE of LGBMRegressor_1: 0.0467\n"
          ]
        }
      ],
      "source": [
        "result_1 = check_error(LGBMRegressor(), train_4)\n",
        "\n",
        "\n",
        "print(f\"MAE of LGBMRegressor_1: {result_1:.4f}\")\n",
        "\n",
        "# print(f\"Difference : {result_2 - result_1:.4f}\")"
      ]
    },
    {
      "cell_type": "markdown",
      "metadata": {
        "id": "777LCzi2FU0Y"
      },
      "source": [
        "### XGBoost"
      ]
    },
    {
      "cell_type": "code",
      "execution_count": null,
      "metadata": {
        "colab": {
          "base_uri": "https://localhost:8080/",
          "height": 428
        },
        "id": "RiEvTmhwU6Df",
        "outputId": "20dcc942-3a6c-4f21-8c6c-b51d5a4dae3f"
      },
      "outputs": [
        {
          "output_type": "stream",
          "name": "stdout",
          "text": [
            "[05:02:03] WARNING: /workspace/src/objective/regression_obj.cu:152: reg:linear is now deprecated in favor of reg:squarederror.\n"
          ]
        },
        {
          "output_type": "error",
          "ename": "KeyboardInterrupt",
          "evalue": "ignored",
          "traceback": [
            "\u001b[0;31m---------------------------------------------------------------------------\u001b[0m",
            "\u001b[0;31mKeyboardInterrupt\u001b[0m                         Traceback (most recent call last)",
            "\u001b[0;32m<ipython-input-9-6bf2e973e134>\u001b[0m in \u001b[0;36m<module>\u001b[0;34m()\u001b[0m\n\u001b[0;32m----> 1\u001b[0;31m \u001b[0mresult_1\u001b[0m \u001b[0;34m=\u001b[0m \u001b[0mcheck_error\u001b[0m\u001b[0;34m(\u001b[0m\u001b[0mXGBRegressor\u001b[0m\u001b[0;34m(\u001b[0m\u001b[0;34m)\u001b[0m\u001b[0;34m,\u001b[0m \u001b[0mtrain_1\u001b[0m\u001b[0;34m)\u001b[0m\u001b[0;34m\u001b[0m\u001b[0;34m\u001b[0m\u001b[0m\n\u001b[0m\u001b[1;32m      2\u001b[0m \u001b[0mresult_2\u001b[0m \u001b[0;34m=\u001b[0m \u001b[0mcheck_error\u001b[0m\u001b[0;34m(\u001b[0m\u001b[0mXGBRegressor\u001b[0m\u001b[0;34m(\u001b[0m\u001b[0;34m)\u001b[0m\u001b[0;34m,\u001b[0m \u001b[0mtrain_2\u001b[0m\u001b[0;34m)\u001b[0m\u001b[0;34m\u001b[0m\u001b[0;34m\u001b[0m\u001b[0m\n\u001b[1;32m      3\u001b[0m \u001b[0mresult_3\u001b[0m \u001b[0;34m=\u001b[0m \u001b[0mcheck_error\u001b[0m\u001b[0;34m(\u001b[0m\u001b[0mXGBRegressor\u001b[0m\u001b[0;34m(\u001b[0m\u001b[0;34m)\u001b[0m\u001b[0;34m,\u001b[0m \u001b[0mtrain_3\u001b[0m\u001b[0;34m)\u001b[0m\u001b[0;34m\u001b[0m\u001b[0;34m\u001b[0m\u001b[0m\n\u001b[1;32m      4\u001b[0m \u001b[0;34m\u001b[0m\u001b[0m\n\u001b[1;32m      5\u001b[0m \u001b[0;34m\u001b[0m\u001b[0m\n",
            "\u001b[0;32m<ipython-input-6-f8d827e628e8>\u001b[0m in \u001b[0;36mcheck_error\u001b[0;34m(model_, data_)\u001b[0m\n\u001b[1;32m      9\u001b[0m \u001b[0;34m\u001b[0m\u001b[0m\n\u001b[1;32m     10\u001b[0m     \u001b[0mmodel\u001b[0m \u001b[0;34m=\u001b[0m \u001b[0mmodel_\u001b[0m\u001b[0;34m\u001b[0m\u001b[0;34m\u001b[0m\u001b[0m\n\u001b[0;32m---> 11\u001b[0;31m     \u001b[0mmodel\u001b[0m\u001b[0;34m.\u001b[0m\u001b[0mfit\u001b[0m\u001b[0;34m(\u001b[0m\u001b[0mX_train\u001b[0m\u001b[0;34m,\u001b[0m \u001b[0my_train\u001b[0m\u001b[0;34m)\u001b[0m\u001b[0;34m\u001b[0m\u001b[0;34m\u001b[0m\u001b[0m\n\u001b[0m\u001b[1;32m     12\u001b[0m     \u001b[0mpred\u001b[0m \u001b[0;34m=\u001b[0m \u001b[0mmodel\u001b[0m\u001b[0;34m.\u001b[0m\u001b[0mpredict\u001b[0m\u001b[0;34m(\u001b[0m\u001b[0mX_test\u001b[0m\u001b[0;34m)\u001b[0m\u001b[0;34m\u001b[0m\u001b[0;34m\u001b[0m\u001b[0m\n\u001b[1;32m     13\u001b[0m     \u001b[0;32mreturn\u001b[0m \u001b[0mmean_absolute_error\u001b[0m\u001b[0;34m(\u001b[0m\u001b[0my_test\u001b[0m\u001b[0;34m,\u001b[0m \u001b[0mpred\u001b[0m\u001b[0;34m)\u001b[0m\u001b[0;34m\u001b[0m\u001b[0;34m\u001b[0m\u001b[0m\n",
            "\u001b[0;32m/usr/local/lib/python3.7/dist-packages/xgboost/sklearn.py\u001b[0m in \u001b[0;36mfit\u001b[0;34m(self, X, y, sample_weight, eval_set, eval_metric, early_stopping_rounds, verbose, xgb_model, sample_weight_eval_set, callbacks)\u001b[0m\n\u001b[1;32m    394\u001b[0m                               \u001b[0mevals_result\u001b[0m\u001b[0;34m=\u001b[0m\u001b[0mevals_result\u001b[0m\u001b[0;34m,\u001b[0m \u001b[0mobj\u001b[0m\u001b[0;34m=\u001b[0m\u001b[0mobj\u001b[0m\u001b[0;34m,\u001b[0m \u001b[0mfeval\u001b[0m\u001b[0;34m=\u001b[0m\u001b[0mfeval\u001b[0m\u001b[0;34m,\u001b[0m\u001b[0;34m\u001b[0m\u001b[0;34m\u001b[0m\u001b[0m\n\u001b[1;32m    395\u001b[0m                               \u001b[0mverbose_eval\u001b[0m\u001b[0;34m=\u001b[0m\u001b[0mverbose\u001b[0m\u001b[0;34m,\u001b[0m \u001b[0mxgb_model\u001b[0m\u001b[0;34m=\u001b[0m\u001b[0mxgb_model\u001b[0m\u001b[0;34m,\u001b[0m\u001b[0;34m\u001b[0m\u001b[0;34m\u001b[0m\u001b[0m\n\u001b[0;32m--> 396\u001b[0;31m                               callbacks=callbacks)\n\u001b[0m\u001b[1;32m    397\u001b[0m \u001b[0;34m\u001b[0m\u001b[0m\n\u001b[1;32m    398\u001b[0m         \u001b[0;32mif\u001b[0m \u001b[0mevals_result\u001b[0m\u001b[0;34m:\u001b[0m\u001b[0;34m\u001b[0m\u001b[0;34m\u001b[0m\u001b[0m\n",
            "\u001b[0;32m/usr/local/lib/python3.7/dist-packages/xgboost/training.py\u001b[0m in \u001b[0;36mtrain\u001b[0;34m(params, dtrain, num_boost_round, evals, obj, feval, maximize, early_stopping_rounds, evals_result, verbose_eval, xgb_model, callbacks, learning_rates)\u001b[0m\n\u001b[1;32m    214\u001b[0m                            \u001b[0mevals\u001b[0m\u001b[0;34m=\u001b[0m\u001b[0mevals\u001b[0m\u001b[0;34m,\u001b[0m\u001b[0;34m\u001b[0m\u001b[0;34m\u001b[0m\u001b[0m\n\u001b[1;32m    215\u001b[0m                            \u001b[0mobj\u001b[0m\u001b[0;34m=\u001b[0m\u001b[0mobj\u001b[0m\u001b[0;34m,\u001b[0m \u001b[0mfeval\u001b[0m\u001b[0;34m=\u001b[0m\u001b[0mfeval\u001b[0m\u001b[0;34m,\u001b[0m\u001b[0;34m\u001b[0m\u001b[0;34m\u001b[0m\u001b[0m\n\u001b[0;32m--> 216\u001b[0;31m                            xgb_model=xgb_model, callbacks=callbacks)\n\u001b[0m\u001b[1;32m    217\u001b[0m \u001b[0;34m\u001b[0m\u001b[0m\n\u001b[1;32m    218\u001b[0m \u001b[0;34m\u001b[0m\u001b[0m\n",
            "\u001b[0;32m/usr/local/lib/python3.7/dist-packages/xgboost/training.py\u001b[0m in \u001b[0;36m_train_internal\u001b[0;34m(params, dtrain, num_boost_round, evals, obj, feval, xgb_model, callbacks)\u001b[0m\n\u001b[1;32m     72\u001b[0m         \u001b[0;31m# Skip the first update if it is a recovery step.\u001b[0m\u001b[0;34m\u001b[0m\u001b[0;34m\u001b[0m\u001b[0;34m\u001b[0m\u001b[0m\n\u001b[1;32m     73\u001b[0m         \u001b[0;32mif\u001b[0m \u001b[0mversion\u001b[0m \u001b[0;34m%\u001b[0m \u001b[0;36m2\u001b[0m \u001b[0;34m==\u001b[0m \u001b[0;36m0\u001b[0m\u001b[0;34m:\u001b[0m\u001b[0;34m\u001b[0m\u001b[0;34m\u001b[0m\u001b[0m\n\u001b[0;32m---> 74\u001b[0;31m             \u001b[0mbst\u001b[0m\u001b[0;34m.\u001b[0m\u001b[0mupdate\u001b[0m\u001b[0;34m(\u001b[0m\u001b[0mdtrain\u001b[0m\u001b[0;34m,\u001b[0m \u001b[0mi\u001b[0m\u001b[0;34m,\u001b[0m \u001b[0mobj\u001b[0m\u001b[0;34m)\u001b[0m\u001b[0;34m\u001b[0m\u001b[0;34m\u001b[0m\u001b[0m\n\u001b[0m\u001b[1;32m     75\u001b[0m             \u001b[0mbst\u001b[0m\u001b[0;34m.\u001b[0m\u001b[0msave_rabit_checkpoint\u001b[0m\u001b[0;34m(\u001b[0m\u001b[0;34m)\u001b[0m\u001b[0;34m\u001b[0m\u001b[0;34m\u001b[0m\u001b[0m\n\u001b[1;32m     76\u001b[0m             \u001b[0mversion\u001b[0m \u001b[0;34m+=\u001b[0m \u001b[0;36m1\u001b[0m\u001b[0;34m\u001b[0m\u001b[0;34m\u001b[0m\u001b[0m\n",
            "\u001b[0;32m/usr/local/lib/python3.7/dist-packages/xgboost/core.py\u001b[0m in \u001b[0;36mupdate\u001b[0;34m(self, dtrain, iteration, fobj)\u001b[0m\n\u001b[1;32m   1107\u001b[0m         \u001b[0;32mif\u001b[0m \u001b[0mfobj\u001b[0m \u001b[0;32mis\u001b[0m \u001b[0;32mNone\u001b[0m\u001b[0;34m:\u001b[0m\u001b[0;34m\u001b[0m\u001b[0;34m\u001b[0m\u001b[0m\n\u001b[1;32m   1108\u001b[0m             _check_call(_LIB.XGBoosterUpdateOneIter(self.handle, ctypes.c_int(iteration),\n\u001b[0;32m-> 1109\u001b[0;31m                                                     dtrain.handle))\n\u001b[0m\u001b[1;32m   1110\u001b[0m         \u001b[0;32melse\u001b[0m\u001b[0;34m:\u001b[0m\u001b[0;34m\u001b[0m\u001b[0;34m\u001b[0m\u001b[0m\n\u001b[1;32m   1111\u001b[0m             \u001b[0mpred\u001b[0m \u001b[0;34m=\u001b[0m \u001b[0mself\u001b[0m\u001b[0;34m.\u001b[0m\u001b[0mpredict\u001b[0m\u001b[0;34m(\u001b[0m\u001b[0mdtrain\u001b[0m\u001b[0;34m)\u001b[0m\u001b[0;34m\u001b[0m\u001b[0;34m\u001b[0m\u001b[0m\n",
            "\u001b[0;31mKeyboardInterrupt\u001b[0m: "
          ]
        }
      ],
      "source": [
        "result_1 = check_error(XGBRegressor(), train_1)\n",
        "result_2 = check_error(XGBRegressor(), train_2)\n",
        "result_3 = check_error(XGBRegressor(), train_3)\n",
        "\n",
        "\n",
        "print(f\"MAE of XGBRegressor_1: {result_1:.4f}\")\n",
        "print(f\"MAE of XGBRegressor_2: {result_2:.4f}\")\n",
        "print(f\"MAE of XGBRegressor_3: {result_3:.4f}\")\n",
        "\n",
        "# print(f\"Difference : {result_2 - result_1:.4f}\")"
      ]
    },
    {
      "cell_type": "markdown",
      "metadata": {
        "id": "Rm35KzhJFYA7"
      },
      "source": [
        "### CatBoost"
      ]
    },
    {
      "cell_type": "code",
      "execution_count": null,
      "metadata": {
        "colab": {
          "base_uri": "https://localhost:8080/",
          "height": 1000
        },
        "id": "b_mczQKbVE_L",
        "outputId": "7d88d304-0410-4546-cff6-31487b1c6846"
      },
      "outputs": [
        {
          "name": "stdout",
          "output_type": "stream",
          "text": [
            "Learning rate set to 0.149026\n",
            "0:\tlearn: 0.2709265\ttotal: 1.01s\tremaining: 16m 48s\n",
            "1:\tlearn: 0.2408531\ttotal: 1.75s\tremaining: 14m 31s\n",
            "2:\tlearn: 0.2161753\ttotal: 2.45s\tremaining: 13m 34s\n",
            "3:\tlearn: 0.1956704\ttotal: 3.18s\tremaining: 13m 11s\n",
            "4:\tlearn: 0.1781773\ttotal: 4.07s\tremaining: 13m 29s\n",
            "5:\tlearn: 0.1639876\ttotal: 5.06s\tremaining: 13m 58s\n",
            "6:\tlearn: 0.1528903\ttotal: 6.04s\tremaining: 14m 17s\n",
            "7:\tlearn: 0.1437100\ttotal: 7.04s\tremaining: 14m 32s\n",
            "8:\tlearn: 0.1360397\ttotal: 8.11s\tremaining: 14m 53s\n",
            "9:\tlearn: 0.1298822\ttotal: 9.25s\tremaining: 15m 15s\n",
            "10:\tlearn: 0.1250981\ttotal: 10.3s\tremaining: 15m 24s\n",
            "11:\tlearn: 0.1212832\ttotal: 11.6s\tremaining: 15m 53s\n",
            "12:\tlearn: 0.1183214\ttotal: 12.2s\tremaining: 15m 28s\n",
            "13:\tlearn: 0.1159840\ttotal: 12.8s\tremaining: 15m 1s\n",
            "14:\tlearn: 0.1141425\ttotal: 13.4s\tremaining: 14m 42s\n",
            "15:\tlearn: 0.1119187\ttotal: 14.1s\tremaining: 14m 28s\n",
            "16:\tlearn: 0.1105299\ttotal: 14.7s\tremaining: 14m 12s\n",
            "17:\tlearn: 0.1093203\ttotal: 15.4s\tremaining: 13m 59s\n",
            "18:\tlearn: 0.1079654\ttotal: 16.1s\tremaining: 13m 49s\n",
            "19:\tlearn: 0.1066593\ttotal: 16.7s\tremaining: 13m 37s\n",
            "20:\tlearn: 0.1056906\ttotal: 17.3s\tremaining: 13m 27s\n",
            "21:\tlearn: 0.1050958\ttotal: 17.9s\tremaining: 13m 13s\n",
            "22:\tlearn: 0.1045653\ttotal: 18.4s\tremaining: 13m 2s\n",
            "23:\tlearn: 0.1041009\ttotal: 19s\tremaining: 12m 51s\n",
            "24:\tlearn: 0.1037544\ttotal: 19.5s\tremaining: 12m 40s\n",
            "25:\tlearn: 0.1028342\ttotal: 20.2s\tremaining: 12m 37s\n",
            "26:\tlearn: 0.1022936\ttotal: 20.8s\tremaining: 12m 28s\n",
            "27:\tlearn: 0.1017846\ttotal: 21.4s\tremaining: 12m 24s\n",
            "28:\tlearn: 0.1014796\ttotal: 22s\tremaining: 12m 15s\n",
            "29:\tlearn: 0.1012247\ttotal: 22.5s\tremaining: 12m 7s\n",
            "30:\tlearn: 0.1008951\ttotal: 23.1s\tremaining: 12m 2s\n",
            "31:\tlearn: 0.1007208\ttotal: 23.6s\tremaining: 11m 55s\n",
            "32:\tlearn: 0.1000637\ttotal: 24.3s\tremaining: 11m 52s\n",
            "33:\tlearn: 0.0998966\ttotal: 24.8s\tremaining: 11m 44s\n",
            "34:\tlearn: 0.0995291\ttotal: 25.5s\tremaining: 11m 42s\n",
            "35:\tlearn: 0.0994093\ttotal: 26s\tremaining: 11m 36s\n",
            "36:\tlearn: 0.0989745\ttotal: 26.6s\tremaining: 11m 32s\n",
            "37:\tlearn: 0.0987083\ttotal: 27.2s\tremaining: 11m 29s\n",
            "38:\tlearn: 0.0985733\ttotal: 27.8s\tremaining: 11m 24s\n",
            "39:\tlearn: 0.0983984\ttotal: 28.5s\tremaining: 11m 23s\n",
            "40:\tlearn: 0.0980944\ttotal: 29s\tremaining: 11m 18s\n",
            "41:\tlearn: 0.0979641\ttotal: 29.6s\tremaining: 11m 14s\n",
            "42:\tlearn: 0.0978059\ttotal: 30.1s\tremaining: 11m 10s\n",
            "43:\tlearn: 0.0974290\ttotal: 30.8s\tremaining: 11m 10s\n",
            "44:\tlearn: 0.0972464\ttotal: 31.4s\tremaining: 11m 5s\n",
            "45:\tlearn: 0.0970375\ttotal: 32.1s\tremaining: 11m 4s\n",
            "46:\tlearn: 0.0968717\ttotal: 32.6s\tremaining: 11m 1s\n",
            "47:\tlearn: 0.0967480\ttotal: 33.2s\tremaining: 10m 58s\n",
            "48:\tlearn: 0.0965914\ttotal: 33.8s\tremaining: 10m 55s\n",
            "49:\tlearn: 0.0964569\ttotal: 34.3s\tremaining: 10m 51s\n",
            "50:\tlearn: 0.0963426\ttotal: 34.9s\tremaining: 10m 48s\n",
            "51:\tlearn: 0.0959875\ttotal: 35.6s\tremaining: 10m 48s\n",
            "52:\tlearn: 0.0957775\ttotal: 36.1s\tremaining: 10m 45s\n",
            "53:\tlearn: 0.0956907\ttotal: 36.8s\tremaining: 10m 44s\n",
            "54:\tlearn: 0.0955889\ttotal: 37.4s\tremaining: 10m 42s\n",
            "55:\tlearn: 0.0954627\ttotal: 38s\tremaining: 10m 40s\n",
            "56:\tlearn: 0.0953846\ttotal: 38.5s\tremaining: 10m 36s\n",
            "57:\tlearn: 0.0952443\ttotal: 39.1s\tremaining: 10m 35s\n",
            "58:\tlearn: 0.0951073\ttotal: 39.7s\tremaining: 10m 32s\n",
            "59:\tlearn: 0.0950497\ttotal: 40.2s\tremaining: 10m 30s\n",
            "60:\tlearn: 0.0949094\ttotal: 40.8s\tremaining: 10m 28s\n",
            "61:\tlearn: 0.0947172\ttotal: 41.6s\tremaining: 10m 28s\n",
            "62:\tlearn: 0.0945687\ttotal: 42.1s\tremaining: 10m 26s\n",
            "63:\tlearn: 0.0944574\ttotal: 42.7s\tremaining: 10m 24s\n",
            "64:\tlearn: 0.0942963\ttotal: 43.4s\tremaining: 10m 24s\n",
            "65:\tlearn: 0.0941418\ttotal: 44.1s\tremaining: 10m 23s\n",
            "66:\tlearn: 0.0940015\ttotal: 44.8s\tremaining: 10m 24s\n",
            "67:\tlearn: 0.0938518\ttotal: 45.4s\tremaining: 10m 22s\n",
            "68:\tlearn: 0.0936710\ttotal: 46s\tremaining: 10m 21s\n",
            "69:\tlearn: 0.0935367\ttotal: 46.6s\tremaining: 10m 19s\n",
            "70:\tlearn: 0.0934498\ttotal: 47.3s\tremaining: 10m 19s\n",
            "71:\tlearn: 0.0934005\ttotal: 47.9s\tremaining: 10m 17s\n",
            "72:\tlearn: 0.0932961\ttotal: 48.5s\tremaining: 10m 15s\n",
            "73:\tlearn: 0.0932104\ttotal: 49s\tremaining: 10m 13s\n",
            "74:\tlearn: 0.0931618\ttotal: 49.5s\tremaining: 10m 10s\n",
            "75:\tlearn: 0.0931005\ttotal: 50s\tremaining: 10m 8s\n",
            "76:\tlearn: 0.0930505\ttotal: 50.6s\tremaining: 10m 6s\n",
            "77:\tlearn: 0.0929046\ttotal: 51.3s\tremaining: 10m 5s\n",
            "78:\tlearn: 0.0928201\ttotal: 52s\tremaining: 10m 6s\n",
            "79:\tlearn: 0.0927673\ttotal: 52.5s\tremaining: 10m 4s\n",
            "80:\tlearn: 0.0926582\ttotal: 53.2s\tremaining: 10m 3s\n",
            "81:\tlearn: 0.0925662\ttotal: 53.8s\tremaining: 10m 1s\n",
            "82:\tlearn: 0.0924768\ttotal: 54.4s\tremaining: 10m 1s\n",
            "83:\tlearn: 0.0924412\ttotal: 54.9s\tremaining: 9m 59s\n",
            "84:\tlearn: 0.0923760\ttotal: 55.6s\tremaining: 9m 58s\n",
            "85:\tlearn: 0.0923104\ttotal: 56.2s\tremaining: 9m 56s\n",
            "86:\tlearn: 0.0922547\ttotal: 56.7s\tremaining: 9m 55s\n",
            "87:\tlearn: 0.0921740\ttotal: 57.4s\tremaining: 9m 54s\n",
            "88:\tlearn: 0.0921111\ttotal: 58s\tremaining: 9m 53s\n",
            "89:\tlearn: 0.0920777\ttotal: 58.4s\tremaining: 9m 50s\n",
            "90:\tlearn: 0.0920343\ttotal: 59s\tremaining: 9m 49s\n",
            "91:\tlearn: 0.0919835\ttotal: 59.5s\tremaining: 9m 46s\n",
            "92:\tlearn: 0.0919315\ttotal: 1m\tremaining: 9m 45s\n",
            "93:\tlearn: 0.0918422\ttotal: 1m\tremaining: 9m 45s\n",
            "94:\tlearn: 0.0917984\ttotal: 1m 1s\tremaining: 9m 43s\n",
            "95:\tlearn: 0.0917083\ttotal: 1m 1s\tremaining: 9m 42s\n",
            "96:\tlearn: 0.0916276\ttotal: 1m 2s\tremaining: 9m 42s\n",
            "97:\tlearn: 0.0915613\ttotal: 1m 3s\tremaining: 9m 42s\n",
            "98:\tlearn: 0.0915303\ttotal: 1m 3s\tremaining: 9m 40s\n",
            "99:\tlearn: 0.0914918\ttotal: 1m 4s\tremaining: 9m 38s\n",
            "100:\tlearn: 0.0914103\ttotal: 1m 4s\tremaining: 9m 37s\n",
            "101:\tlearn: 0.0913791\ttotal: 1m 5s\tremaining: 9m 37s\n",
            "102:\tlearn: 0.0913142\ttotal: 1m 6s\tremaining: 9m 36s\n",
            "103:\tlearn: 0.0912672\ttotal: 1m 6s\tremaining: 9m 36s\n",
            "104:\tlearn: 0.0912268\ttotal: 1m 7s\tremaining: 9m 34s\n",
            "105:\tlearn: 0.0911684\ttotal: 1m 8s\tremaining: 9m 34s\n",
            "106:\tlearn: 0.0911419\ttotal: 1m 8s\tremaining: 9m 33s\n",
            "107:\tlearn: 0.0910835\ttotal: 1m 9s\tremaining: 9m 32s\n",
            "108:\tlearn: 0.0910553\ttotal: 1m 9s\tremaining: 9m 31s\n",
            "109:\tlearn: 0.0910043\ttotal: 1m 10s\tremaining: 9m 29s\n",
            "110:\tlearn: 0.0909720\ttotal: 1m 10s\tremaining: 9m 28s\n",
            "111:\tlearn: 0.0908948\ttotal: 1m 11s\tremaining: 9m 27s\n",
            "112:\tlearn: 0.0908445\ttotal: 1m 12s\tremaining: 9m 26s\n",
            "113:\tlearn: 0.0908126\ttotal: 1m 12s\tremaining: 9m 25s\n",
            "114:\tlearn: 0.0907775\ttotal: 1m 13s\tremaining: 9m 24s\n",
            "115:\tlearn: 0.0907229\ttotal: 1m 13s\tremaining: 9m 23s\n",
            "116:\tlearn: 0.0906745\ttotal: 1m 14s\tremaining: 9m 24s\n",
            "117:\tlearn: 0.0906311\ttotal: 1m 15s\tremaining: 9m 22s\n",
            "118:\tlearn: 0.0906020\ttotal: 1m 15s\tremaining: 9m 21s\n",
            "119:\tlearn: 0.0905467\ttotal: 1m 16s\tremaining: 9m 21s\n",
            "120:\tlearn: 0.0905093\ttotal: 1m 17s\tremaining: 9m 23s\n",
            "121:\tlearn: 0.0904771\ttotal: 1m 18s\tremaining: 9m 25s\n",
            "122:\tlearn: 0.0904583\ttotal: 1m 19s\tremaining: 9m 27s\n",
            "123:\tlearn: 0.0904091\ttotal: 1m 20s\tremaining: 9m 29s\n",
            "124:\tlearn: 0.0903666\ttotal: 1m 21s\tremaining: 9m 29s\n",
            "125:\tlearn: 0.0903476\ttotal: 1m 21s\tremaining: 9m 28s\n",
            "126:\tlearn: 0.0903148\ttotal: 1m 22s\tremaining: 9m 27s\n",
            "127:\tlearn: 0.0902826\ttotal: 1m 23s\tremaining: 9m 26s\n",
            "128:\tlearn: 0.0902593\ttotal: 1m 23s\tremaining: 9m 25s\n",
            "129:\tlearn: 0.0902349\ttotal: 1m 24s\tremaining: 9m 23s\n",
            "130:\tlearn: 0.0902162\ttotal: 1m 24s\tremaining: 9m 22s\n",
            "131:\tlearn: 0.0901901\ttotal: 1m 25s\tremaining: 9m 21s\n",
            "132:\tlearn: 0.0901637\ttotal: 1m 25s\tremaining: 9m 19s\n",
            "133:\tlearn: 0.0901332\ttotal: 1m 26s\tremaining: 9m 18s\n",
            "134:\tlearn: 0.0900873\ttotal: 1m 27s\tremaining: 9m 17s\n",
            "135:\tlearn: 0.0900617\ttotal: 1m 27s\tremaining: 9m 17s\n",
            "136:\tlearn: 0.0900364\ttotal: 1m 28s\tremaining: 9m 16s\n",
            "137:\tlearn: 0.0900056\ttotal: 1m 28s\tremaining: 9m 15s\n",
            "138:\tlearn: 0.0899493\ttotal: 1m 29s\tremaining: 9m 14s\n",
            "139:\tlearn: 0.0899335\ttotal: 1m 30s\tremaining: 9m 13s\n",
            "140:\tlearn: 0.0899002\ttotal: 1m 30s\tremaining: 9m 12s\n",
            "141:\tlearn: 0.0898723\ttotal: 1m 31s\tremaining: 9m 12s\n",
            "142:\tlearn: 0.0898539\ttotal: 1m 31s\tremaining: 9m 10s\n",
            "143:\tlearn: 0.0898301\ttotal: 1m 32s\tremaining: 9m 9s\n",
            "144:\tlearn: 0.0898087\ttotal: 1m 33s\tremaining: 9m 8s\n",
            "145:\tlearn: 0.0897931\ttotal: 1m 33s\tremaining: 9m 7s\n",
            "146:\tlearn: 0.0897706\ttotal: 1m 34s\tremaining: 9m 6s\n",
            "147:\tlearn: 0.0897595\ttotal: 1m 34s\tremaining: 9m 5s\n",
            "148:\tlearn: 0.0897293\ttotal: 1m 35s\tremaining: 9m 5s\n",
            "149:\tlearn: 0.0897043\ttotal: 1m 36s\tremaining: 9m 4s\n",
            "150:\tlearn: 0.0896814\ttotal: 1m 36s\tremaining: 9m 3s\n",
            "151:\tlearn: 0.0896477\ttotal: 1m 37s\tremaining: 9m 2s\n",
            "152:\tlearn: 0.0896288\ttotal: 1m 37s\tremaining: 9m 1s\n",
            "153:\tlearn: 0.0895876\ttotal: 1m 38s\tremaining: 9m 1s\n",
            "154:\tlearn: 0.0895636\ttotal: 1m 39s\tremaining: 9m\n",
            "155:\tlearn: 0.0895399\ttotal: 1m 39s\tremaining: 8m 59s\n",
            "156:\tlearn: 0.0895271\ttotal: 1m 40s\tremaining: 8m 58s\n",
            "157:\tlearn: 0.0895009\ttotal: 1m 40s\tremaining: 8m 58s\n",
            "158:\tlearn: 0.0894730\ttotal: 1m 41s\tremaining: 8m 57s\n",
            "159:\tlearn: 0.0894596\ttotal: 1m 42s\tremaining: 8m 56s\n",
            "160:\tlearn: 0.0894442\ttotal: 1m 42s\tremaining: 8m 55s\n",
            "161:\tlearn: 0.0894325\ttotal: 1m 43s\tremaining: 8m 54s\n",
            "162:\tlearn: 0.0894194\ttotal: 1m 43s\tremaining: 8m 53s\n",
            "163:\tlearn: 0.0893936\ttotal: 1m 44s\tremaining: 8m 52s\n",
            "164:\tlearn: 0.0893686\ttotal: 1m 45s\tremaining: 8m 51s\n",
            "165:\tlearn: 0.0893488\ttotal: 1m 45s\tremaining: 8m 50s\n",
            "166:\tlearn: 0.0893319\ttotal: 1m 46s\tremaining: 8m 49s\n",
            "167:\tlearn: 0.0893188\ttotal: 1m 46s\tremaining: 8m 48s\n",
            "168:\tlearn: 0.0892888\ttotal: 1m 47s\tremaining: 8m 48s\n",
            "169:\tlearn: 0.0892674\ttotal: 1m 48s\tremaining: 8m 47s\n",
            "170:\tlearn: 0.0892577\ttotal: 1m 48s\tremaining: 8m 46s\n",
            "171:\tlearn: 0.0892420\ttotal: 1m 49s\tremaining: 8m 45s\n",
            "172:\tlearn: 0.0892202\ttotal: 1m 49s\tremaining: 8m 44s\n",
            "173:\tlearn: 0.0892102\ttotal: 1m 50s\tremaining: 8m 43s\n",
            "174:\tlearn: 0.0891998\ttotal: 1m 50s\tremaining: 8m 42s\n",
            "175:\tlearn: 0.0891922\ttotal: 1m 51s\tremaining: 8m 41s\n",
            "176:\tlearn: 0.0891679\ttotal: 1m 51s\tremaining: 8m 40s\n",
            "177:\tlearn: 0.0891573\ttotal: 1m 52s\tremaining: 8m 39s\n",
            "178:\tlearn: 0.0891403\ttotal: 1m 53s\tremaining: 8m 38s\n",
            "179:\tlearn: 0.0891182\ttotal: 1m 53s\tremaining: 8m 37s\n",
            "180:\tlearn: 0.0891012\ttotal: 1m 54s\tremaining: 8m 37s\n",
            "181:\tlearn: 0.0890822\ttotal: 1m 54s\tremaining: 8m 36s\n",
            "182:\tlearn: 0.0890604\ttotal: 1m 55s\tremaining: 8m 35s\n",
            "183:\tlearn: 0.0890506\ttotal: 1m 56s\tremaining: 8m 34s\n",
            "184:\tlearn: 0.0890326\ttotal: 1m 56s\tremaining: 8m 33s\n",
            "185:\tlearn: 0.0890141\ttotal: 1m 57s\tremaining: 8m 33s\n",
            "186:\tlearn: 0.0889957\ttotal: 1m 57s\tremaining: 8m 32s\n",
            "187:\tlearn: 0.0889827\ttotal: 1m 58s\tremaining: 8m 32s\n",
            "188:\tlearn: 0.0889772\ttotal: 1m 59s\tremaining: 8m 30s\n",
            "189:\tlearn: 0.0889637\ttotal: 1m 59s\tremaining: 8m 30s\n",
            "190:\tlearn: 0.0889485\ttotal: 2m\tremaining: 8m 29s\n",
            "191:\tlearn: 0.0889380\ttotal: 2m\tremaining: 8m 28s\n",
            "192:\tlearn: 0.0889185\ttotal: 2m 1s\tremaining: 8m 27s\n",
            "193:\tlearn: 0.0889106\ttotal: 2m 1s\tremaining: 8m 26s\n",
            "194:\tlearn: 0.0889003\ttotal: 2m 2s\tremaining: 8m 25s\n",
            "195:\tlearn: 0.0888904\ttotal: 2m 2s\tremaining: 8m 24s\n",
            "196:\tlearn: 0.0888810\ttotal: 2m 3s\tremaining: 8m 23s\n",
            "197:\tlearn: 0.0888525\ttotal: 2m 4s\tremaining: 8m 23s\n"
          ]
        },
        {
          "ename": "KeyboardInterrupt",
          "evalue": "ignored",
          "output_type": "error",
          "traceback": [
            "\u001b[0;31m---------------------------------------------------------------------------\u001b[0m",
            "\u001b[0;31mKeyboardInterrupt\u001b[0m                         Traceback (most recent call last)",
            "\u001b[0;32m<ipython-input-24-7afb5f01e6fe>\u001b[0m in \u001b[0;36m<module>\u001b[0;34m()\u001b[0m\n\u001b[0;32m----> 1\u001b[0;31m \u001b[0mresult_1\u001b[0m \u001b[0;34m=\u001b[0m \u001b[0mcheck_error\u001b[0m\u001b[0;34m(\u001b[0m\u001b[0mCatBoostRegressor\u001b[0m\u001b[0;34m(\u001b[0m\u001b[0;34m)\u001b[0m\u001b[0;34m,\u001b[0m \u001b[0mtrain_1\u001b[0m\u001b[0;34m)\u001b[0m\u001b[0;34m\u001b[0m\u001b[0;34m\u001b[0m\u001b[0m\n\u001b[0m\u001b[1;32m      2\u001b[0m \u001b[0mresult_2\u001b[0m \u001b[0;34m=\u001b[0m \u001b[0mcheck_error\u001b[0m\u001b[0;34m(\u001b[0m\u001b[0mCatBoostRegressor\u001b[0m\u001b[0;34m(\u001b[0m\u001b[0;34m)\u001b[0m\u001b[0;34m,\u001b[0m \u001b[0mtrain_2\u001b[0m\u001b[0;34m)\u001b[0m\u001b[0;34m\u001b[0m\u001b[0;34m\u001b[0m\u001b[0m\n\u001b[1;32m      3\u001b[0m \u001b[0mprint\u001b[0m\u001b[0;34m(\u001b[0m\u001b[0;34mf\"MAE of CatBoostRegressor_1: {result_1:.4f}\"\u001b[0m\u001b[0;34m)\u001b[0m\u001b[0;34m\u001b[0m\u001b[0;34m\u001b[0m\u001b[0m\n\u001b[1;32m      4\u001b[0m \u001b[0mprint\u001b[0m\u001b[0;34m(\u001b[0m\u001b[0;34mf\"MAE of CatBoostRegressor_2: {result_2:.4f}\"\u001b[0m\u001b[0;34m)\u001b[0m\u001b[0;34m\u001b[0m\u001b[0;34m\u001b[0m\u001b[0m\n\u001b[1;32m      5\u001b[0m \u001b[0mprint\u001b[0m\u001b[0;34m(\u001b[0m\u001b[0;34mf\"Difference : {result_2 - result_1:.4f}\"\u001b[0m\u001b[0;34m)\u001b[0m\u001b[0;34m\u001b[0m\u001b[0;34m\u001b[0m\u001b[0m\n",
            "\u001b[0;32m<ipython-input-13-f8d827e628e8>\u001b[0m in \u001b[0;36mcheck_error\u001b[0;34m(model_, data_)\u001b[0m\n\u001b[1;32m      9\u001b[0m \u001b[0;34m\u001b[0m\u001b[0m\n\u001b[1;32m     10\u001b[0m     \u001b[0mmodel\u001b[0m \u001b[0;34m=\u001b[0m \u001b[0mmodel_\u001b[0m\u001b[0;34m\u001b[0m\u001b[0;34m\u001b[0m\u001b[0m\n\u001b[0;32m---> 11\u001b[0;31m     \u001b[0mmodel\u001b[0m\u001b[0;34m.\u001b[0m\u001b[0mfit\u001b[0m\u001b[0;34m(\u001b[0m\u001b[0mX_train\u001b[0m\u001b[0;34m,\u001b[0m \u001b[0my_train\u001b[0m\u001b[0;34m)\u001b[0m\u001b[0;34m\u001b[0m\u001b[0;34m\u001b[0m\u001b[0m\n\u001b[0m\u001b[1;32m     12\u001b[0m     \u001b[0mpred\u001b[0m \u001b[0;34m=\u001b[0m \u001b[0mmodel\u001b[0m\u001b[0;34m.\u001b[0m\u001b[0mpredict\u001b[0m\u001b[0;34m(\u001b[0m\u001b[0mX_test\u001b[0m\u001b[0;34m)\u001b[0m\u001b[0;34m\u001b[0m\u001b[0;34m\u001b[0m\u001b[0m\n\u001b[1;32m     13\u001b[0m     \u001b[0;32mreturn\u001b[0m \u001b[0mmean_absolute_error\u001b[0m\u001b[0;34m(\u001b[0m\u001b[0my_test\u001b[0m\u001b[0;34m,\u001b[0m \u001b[0mpred\u001b[0m\u001b[0;34m)\u001b[0m\u001b[0;34m\u001b[0m\u001b[0;34m\u001b[0m\u001b[0m\n",
            "\u001b[0;32m/usr/local/lib/python3.7/dist-packages/catboost/core.py\u001b[0m in \u001b[0;36mfit\u001b[0;34m(self, X, y, cat_features, sample_weight, baseline, use_best_model, eval_set, verbose, logging_level, plot, column_description, verbose_eval, metric_period, silent, early_stopping_rounds, save_snapshot, snapshot_file, snapshot_interval, init_model, callbacks, log_cout, log_cerr)\u001b[0m\n\u001b[1;32m   5591\u001b[0m                          \u001b[0muse_best_model\u001b[0m\u001b[0;34m,\u001b[0m \u001b[0meval_set\u001b[0m\u001b[0;34m,\u001b[0m \u001b[0mverbose\u001b[0m\u001b[0;34m,\u001b[0m \u001b[0mlogging_level\u001b[0m\u001b[0;34m,\u001b[0m \u001b[0mplot\u001b[0m\u001b[0;34m,\u001b[0m \u001b[0mcolumn_description\u001b[0m\u001b[0;34m,\u001b[0m\u001b[0;34m\u001b[0m\u001b[0;34m\u001b[0m\u001b[0m\n\u001b[1;32m   5592\u001b[0m                          \u001b[0mverbose_eval\u001b[0m\u001b[0;34m,\u001b[0m \u001b[0mmetric_period\u001b[0m\u001b[0;34m,\u001b[0m \u001b[0msilent\u001b[0m\u001b[0;34m,\u001b[0m \u001b[0mearly_stopping_rounds\u001b[0m\u001b[0;34m,\u001b[0m\u001b[0;34m\u001b[0m\u001b[0;34m\u001b[0m\u001b[0m\n\u001b[0;32m-> 5593\u001b[0;31m                          save_snapshot, snapshot_file, snapshot_interval, init_model, callbacks, log_cout, log_cerr)\n\u001b[0m\u001b[1;32m   5594\u001b[0m \u001b[0;34m\u001b[0m\u001b[0m\n\u001b[1;32m   5595\u001b[0m     \u001b[0;32mdef\u001b[0m \u001b[0mpredict\u001b[0m\u001b[0;34m(\u001b[0m\u001b[0mself\u001b[0m\u001b[0;34m,\u001b[0m \u001b[0mdata\u001b[0m\u001b[0;34m,\u001b[0m \u001b[0mprediction_type\u001b[0m\u001b[0;34m=\u001b[0m\u001b[0;32mNone\u001b[0m\u001b[0;34m,\u001b[0m \u001b[0mntree_start\u001b[0m\u001b[0;34m=\u001b[0m\u001b[0;36m0\u001b[0m\u001b[0;34m,\u001b[0m \u001b[0mntree_end\u001b[0m\u001b[0;34m=\u001b[0m\u001b[0;36m0\u001b[0m\u001b[0;34m,\u001b[0m \u001b[0mthread_count\u001b[0m\u001b[0;34m=\u001b[0m\u001b[0;34m-\u001b[0m\u001b[0;36m1\u001b[0m\u001b[0;34m,\u001b[0m \u001b[0mverbose\u001b[0m\u001b[0;34m=\u001b[0m\u001b[0;32mNone\u001b[0m\u001b[0;34m,\u001b[0m \u001b[0mtask_type\u001b[0m\u001b[0;34m=\u001b[0m\u001b[0;34m\"CPU\"\u001b[0m\u001b[0;34m)\u001b[0m\u001b[0;34m:\u001b[0m\u001b[0;34m\u001b[0m\u001b[0;34m\u001b[0m\u001b[0m\n",
            "\u001b[0;32m/usr/local/lib/python3.7/dist-packages/catboost/core.py\u001b[0m in \u001b[0;36m_fit\u001b[0;34m(self, X, y, cat_features, text_features, embedding_features, pairs, sample_weight, group_id, group_weight, subgroup_id, pairs_weight, baseline, use_best_model, eval_set, verbose, logging_level, plot, column_description, verbose_eval, metric_period, silent, early_stopping_rounds, save_snapshot, snapshot_file, snapshot_interval, init_model, callbacks, log_cout, log_cerr)\u001b[0m\n\u001b[1;32m   2281\u001b[0m                 \u001b[0mparams\u001b[0m\u001b[0;34m,\u001b[0m\u001b[0;34m\u001b[0m\u001b[0;34m\u001b[0m\u001b[0m\n\u001b[1;32m   2282\u001b[0m                 \u001b[0mallow_clear_pool\u001b[0m\u001b[0;34m,\u001b[0m\u001b[0;34m\u001b[0m\u001b[0;34m\u001b[0m\u001b[0m\n\u001b[0;32m-> 2283\u001b[0;31m                 \u001b[0mtrain_params\u001b[0m\u001b[0;34m[\u001b[0m\u001b[0;34m\"init_model\"\u001b[0m\u001b[0;34m]\u001b[0m\u001b[0;34m\u001b[0m\u001b[0;34m\u001b[0m\u001b[0m\n\u001b[0m\u001b[1;32m   2284\u001b[0m             )\n\u001b[1;32m   2285\u001b[0m \u001b[0;34m\u001b[0m\u001b[0m\n",
            "\u001b[0;32m/usr/local/lib/python3.7/dist-packages/catboost/core.py\u001b[0m in \u001b[0;36m_train\u001b[0;34m(self, train_pool, test_pool, params, allow_clear_pool, init_model)\u001b[0m\n\u001b[1;32m   1703\u001b[0m \u001b[0;34m\u001b[0m\u001b[0m\n\u001b[1;32m   1704\u001b[0m     \u001b[0;32mdef\u001b[0m \u001b[0m_train\u001b[0m\u001b[0;34m(\u001b[0m\u001b[0mself\u001b[0m\u001b[0;34m,\u001b[0m \u001b[0mtrain_pool\u001b[0m\u001b[0;34m,\u001b[0m \u001b[0mtest_pool\u001b[0m\u001b[0;34m,\u001b[0m \u001b[0mparams\u001b[0m\u001b[0;34m,\u001b[0m \u001b[0mallow_clear_pool\u001b[0m\u001b[0;34m,\u001b[0m \u001b[0minit_model\u001b[0m\u001b[0;34m)\u001b[0m\u001b[0;34m:\u001b[0m\u001b[0;34m\u001b[0m\u001b[0;34m\u001b[0m\u001b[0m\n\u001b[0;32m-> 1705\u001b[0;31m         \u001b[0mself\u001b[0m\u001b[0;34m.\u001b[0m\u001b[0m_object\u001b[0m\u001b[0;34m.\u001b[0m\u001b[0m_train\u001b[0m\u001b[0;34m(\u001b[0m\u001b[0mtrain_pool\u001b[0m\u001b[0;34m,\u001b[0m \u001b[0mtest_pool\u001b[0m\u001b[0;34m,\u001b[0m \u001b[0mparams\u001b[0m\u001b[0;34m,\u001b[0m \u001b[0mallow_clear_pool\u001b[0m\u001b[0;34m,\u001b[0m \u001b[0minit_model\u001b[0m\u001b[0;34m.\u001b[0m\u001b[0m_object\u001b[0m \u001b[0;32mif\u001b[0m \u001b[0minit_model\u001b[0m \u001b[0;32melse\u001b[0m \u001b[0;32mNone\u001b[0m\u001b[0;34m)\u001b[0m\u001b[0;34m\u001b[0m\u001b[0;34m\u001b[0m\u001b[0m\n\u001b[0m\u001b[1;32m   1706\u001b[0m         \u001b[0mself\u001b[0m\u001b[0;34m.\u001b[0m\u001b[0m_set_trained_model_attributes\u001b[0m\u001b[0;34m(\u001b[0m\u001b[0;34m)\u001b[0m\u001b[0;34m\u001b[0m\u001b[0;34m\u001b[0m\u001b[0m\n\u001b[1;32m   1707\u001b[0m \u001b[0;34m\u001b[0m\u001b[0m\n",
            "\u001b[0;32m_catboost.pyx\u001b[0m in \u001b[0;36m_catboost._CatBoost._train\u001b[0;34m()\u001b[0m\n",
            "\u001b[0;32m_catboost.pyx\u001b[0m in \u001b[0;36m_catboost._CatBoost._train\u001b[0;34m()\u001b[0m\n",
            "\u001b[0;31mKeyboardInterrupt\u001b[0m: "
          ]
        }
      ],
      "source": [
        "result_1 = check_error(CatBoostRegressor(), train_1)\n",
        "result_2 = check_error(CatBoostRegressor(), train_2)\n",
        "print(f\"MAE of CatBoostRegressor_1: {result_1:.4f}\")\n",
        "print(f\"MAE of CatBoostRegressor_2: {result_2:.4f}\")\n",
        "# print(f\"Difference : {result_2 - result_1:.4f}\")"
      ]
    },
    {
      "cell_type": "markdown",
      "metadata": {
        "id": "ilZgpI9TdVih"
      },
      "source": [
        "---"
      ]
    },
    {
      "cell_type": "markdown",
      "metadata": {
        "id": "vNJqHbmZVQnD"
      },
      "source": [
        "## 4차 전처리 데이터 분석.\n",
        "\n",
        "    => 이상치, 컬럼 제거를 제외하고 matchId, groupId를 기준으로 컬럼값의 평균, 평균랭크값을 기반으로 모델의 학습을 진행.\n",
        "    \n",
        "    \n",
        "    => 가장 성능이 괜찮은 모델, 분석하고 싶은 모델을 기반으로 hyper-parameter tuning을 통한 성능 개선 작업 시행 예정."
      ]
    },
    {
      "cell_type": "code",
      "source": [
        ""
      ],
      "metadata": {
        "id": "lcVt42qho60k"
      },
      "execution_count": null,
      "outputs": []
    }
  ],
  "metadata": {
    "colab": {
      "collapsed_sections": [
        "a-K2meTCD6y6",
        "777LCzi2FU0Y",
        "Rm35KzhJFYA7"
      ],
      "name": "Modeling_4차_0614.ipynb",
      "provenance": [],
      "include_colab_link": true
    },
    "kernelspec": {
      "display_name": "Python 3 (ipykernel)",
      "language": "python",
      "name": "python3"
    },
    "language_info": {
      "codemirror_mode": {
        "name": "ipython",
        "version": 3
      },
      "file_extension": ".py",
      "mimetype": "text/x-python",
      "name": "python",
      "nbconvert_exporter": "python",
      "pygments_lexer": "ipython3",
      "version": "3.8.13"
    }
  },
  "nbformat": 4,
  "nbformat_minor": 0
}
{
  "cells": [
    {
      "cell_type": "markdown",
      "metadata": {
        "id": "view-in-github",
        "colab_type": "text"
      },
      "source": [
        "<a href=\"https://colab.research.google.com/github/msmsm104/MachineLearning_Project/blob/main/Training_Model/Modeling_3%E1%84%8E%E1%85%A1_0614.ipynb\" target=\"_parent\"><img src=\"https://colab.research.google.com/assets/colab-badge.svg\" alt=\"Open In Colab\"/></a>"
      ]
    },
    {
      "cell_type": "markdown",
      "metadata": {
        "id": "yrWFaGB6n0Tv"
      },
      "source": [
        "# ML_Project(Modeling_3)\n",
        "\n",
        "     => 팀원들간 파악한 인사이트와 생각을 기반으로 전처리한 데이터(3차)와 간단한 전처리 과정을 거친 데이터(1차, 2차)를 통해 모델링을 진행. \n",
        "     => 결과값을 비교"
      ]
    },
    {
      "cell_type": "code",
      "source": [
        "from google.colab import drive\n",
        "drive.mount('/content/drive')"
      ],
      "metadata": {
        "colab": {
          "base_uri": "https://localhost:8080/"
        },
        "id": "49_Rkvpdk9-p",
        "outputId": "c8308f93-61c9-4c3c-dbad-6b1d1a567165"
      },
      "execution_count": null,
      "outputs": [
        {
          "output_type": "stream",
          "name": "stdout",
          "text": [
            "Mounted at /content/drive\n"
          ]
        }
      ]
    },
    {
      "cell_type": "code",
      "execution_count": null,
      "metadata": {
        "id": "CNOka9jc5Fb7"
      },
      "outputs": [],
      "source": [
        "import numpy as np\n",
        "import pandas as pd\n",
        "import matplotlib.pyplot as plt\n",
        "import seaborn as sns"
      ]
    },
    {
      "cell_type": "code",
      "execution_count": null,
      "metadata": {
        "id": "e2qeesV_5OAV"
      },
      "outputs": [],
      "source": [
        "base_path = '/content/drive/MyDrive/Colab Notebooks/이어드림스쿨/TIL(Today I Learned)/20220607/ML-project/data/Interim/'"
      ]
    },
    {
      "cell_type": "markdown",
      "metadata": {
        "id": "_iDGku7noLd8"
      },
      "source": [
        "## data optimize\n",
        "#### train data set의 row가 400만개 이상이므로 Kaggle에서 제공하는 코드를 통해 data의 memory usage를 줄인 다음 modeling 작업을 진행한다. (그렇지 않는다면 중간에 kernel이 끊기는 문제가 발생할 수 있다.)\n",
        "#### 좀 더 코드를 간소화하기 위해 train_test_split과 modeling과정을 함수로 정의하고 적용."
      ]
    },
    {
      "cell_type": "code",
      "execution_count": null,
      "metadata": {
        "id": "dDKEFYfw5wzX"
      },
      "outputs": [],
      "source": [
        "# Memory saving function credit to https://www.kaggle.com/gemartin/load-data-reduce-memory-usage\n",
        "def reduce_mem_usage(df):\n",
        "    \"\"\" iterate through all the columns of a dataframe and modify the data type\n",
        "        to reduce memory usage.        \n",
        "    \"\"\"\n",
        "    start_mem = df.memory_usage().sum() / 1024**2\n",
        "    print('Memory usage of dataframe is {:.2f} MB'.format(start_mem))\n",
        "\n",
        "    for col in df.columns:\n",
        "        col_type = df[col].dtype\n",
        "\n",
        "        if col_type != object:\n",
        "            c_min = df[col].min()\n",
        "            c_max = df[col].max()\n",
        "            if str(col_type)[:3] == 'int':\n",
        "                if c_min > np.iinfo(np.int8).min and c_max < np.iinfo(np.int8).max:\n",
        "                    df[col] = df[col].astype(np.int8)\n",
        "                elif c_min > np.iinfo(np.int16).min and c_max < np.iinfo(np.int16).max:\n",
        "                    df[col] = df[col].astype(np.int16)\n",
        "                elif c_min > np.iinfo(np.int32).min and c_max < np.iinfo(np.int32).max:\n",
        "                    df[col] = df[col].astype(np.int32)\n",
        "                elif c_min > np.iinfo(np.int64).min and c_max < np.iinfo(np.int64).max:\n",
        "                    df[col] = df[col].astype(np.int64)  \n",
        "            else:\n",
        "                if c_min > np.finfo(np.float16).min and c_max < np.finfo(np.float16).max:\n",
        "                    df[col] = df[col].astype(np.float16)\n",
        "                elif c_min > np.finfo(np.float32).min and c_max < np.finfo(np.float32).max:\n",
        "                    df[col] = df[col].astype(np.float32)\n",
        "                else:\n",
        "                    df[col] = df[col].astype(np.float64)\n",
        "\n",
        "    end_mem = df.memory_usage().sum() / 1024**2\n",
        "    print('Memory usage after optimization is: {:.2f} MB'.format(end_mem))\n",
        "    print('Decreased by {:.1f}%'.format(100 * (start_mem - end_mem) / start_mem))\n",
        "\n",
        "    return df"
      ]
    },
    {
      "cell_type": "markdown",
      "metadata": {
        "id": "dHNqc-ft20j7"
      },
      "source": [
        "## Load data"
      ]
    },
    {
      "cell_type": "code",
      "execution_count": null,
      "metadata": {
        "colab": {
          "base_uri": "https://localhost:8080/"
        },
        "id": "cT7j_v4a5lUj",
        "outputId": "c7ac5859-817b-49c2-d7c4-11e3f74b1394"
      },
      "outputs": [
        {
          "output_type": "stream",
          "name": "stdout",
          "text": [
            "Memory usage of dataframe is 712.48 MB\n",
            "Memory usage after optimization is: 127.23 MB\n",
            "Decreased by 82.1%\n",
            "Memory usage of dataframe is 610.70 MB\n",
            "Memory usage after optimization is: 106.02 MB\n",
            "Decreased by 82.6%\n",
            "Memory usage of dataframe is 293.31 MB\n",
            "Memory usage after optimization is: 73.33 MB\n",
            "Decreased by 75.0%\n"
          ]
        }
      ],
      "source": [
        "train_1 = reduce_mem_usage(pd.read_csv(base_path + 'featured_train_1.csv')) ## 1차 전처리 데이터\n",
        "train_2 = reduce_mem_usage(pd.read_csv(base_path + 'featured_train_2.csv')) ## 2차 전처리 데이터\n",
        "train_3 = reduce_mem_usage(pd.read_csv(base_path + 'featured_train_3.csv')) ## 3차 전처리 데이터\n"
      ]
    },
    {
      "cell_type": "markdown",
      "metadata": {
        "id": "0RIjRXkd3F-S"
      },
      "source": [
        "## train_test_split"
      ]
    },
    {
      "cell_type": "code",
      "execution_count": null,
      "metadata": {
        "id": "A5rfsQciRmLU"
      },
      "outputs": [],
      "source": [
        "from sklearn.model_selection import train_test_split\n",
        "\n",
        "def check_error(model_, data_):\n",
        "\n",
        "    X = data_.drop(columns = 'winPlacePerc')\n",
        "    y = data_['winPlacePerc']\n",
        "\n",
        "    X_train, X_test, y_train, y_test = train_test_split(X, y, test_size=0.2, random_state=100)\n",
        "\n",
        "    model = model_\n",
        "    model.fit(X_train, y_train)\n",
        "    pred = model.predict(X_test)\n",
        "    return mean_absolute_error(y_test, pred)"
      ]
    },
    {
      "cell_type": "markdown",
      "metadata": {
        "id": "6FiprB67Tgw1"
      },
      "source": [
        "## Modeling\n",
        "\n",
        "    - LinearRegression\n",
        "    - Lasso\n",
        "    - Ridge\n",
        "    - SVR(x)\n",
        "    - KNeighborsRegressor(x)\n",
        "    - DecisionTreeRegressor(x)\n",
        "    - LGBMRegressor\n",
        "    - RandomForestRegressor\n",
        "    - XGBRegressor\n",
        "    - CatBoostRegressor(x)"
      ]
    },
    {
      "cell_type": "code",
      "execution_count": null,
      "metadata": {
        "id": "vdHTNRRL8AvX"
      },
      "outputs": [],
      "source": [
        "from sklearn.linear_model import LinearRegression\n",
        "from sklearn.linear_model import Lasso\n",
        "from sklearn.linear_model import Ridge\n",
        "\n",
        "# from sklearn.svm import SVR\n",
        "# from sklearn.neighbors import KNeighborsRegressor\n",
        "# from sklearn.tree import DecisionTreeRegressor\n",
        "\n",
        "from lightgbm.sklearn import LGBMRegressor\n",
        "from sklearn.ensemble import RandomForestRegressor\n",
        "from xgboost import XGBRegressor\n",
        "# from catboost import CatBoostRegressor\n",
        "\n",
        "from sklearn.metrics import mean_absolute_error\n",
        "\n",
        "## Linear Reg, Lasso, Ridge, LGBMRegressor, RandomFor, XGBReg, CatBoost"
      ]
    },
    {
      "cell_type": "markdown",
      "metadata": {
        "id": "Aw0FvzMcFKvm"
      },
      "source": [
        "### Linear Regression"
      ]
    },
    {
      "cell_type": "code",
      "execution_count": null,
      "metadata": {
        "colab": {
          "base_uri": "https://localhost:8080/"
        },
        "id": "AZDtMMFtSBJG",
        "outputId": "2aa4b8b5-792d-46bf-9f3f-d3340a296fcd"
      },
      "outputs": [
        {
          "name": "stdout",
          "output_type": "stream",
          "text": [
            "MAE of LinearRegression_1: 0.0968\n",
            "MAE of LinearRegression_2: 0.1049\n",
            "MAE of LinearRegression_3: 0.1060\n"
          ]
        }
      ],
      "source": [
        "result_1 = check_error(LinearRegression(), train_1)\n",
        "result_2 = check_error(LinearRegression(), train_2)\n",
        "result_3 = check_error(LinearRegression(), train_3)\n",
        "print(f\"MAE of LinearRegression_1: {result_1:.4f}\")\n",
        "print(f\"MAE of LinearRegression_2: {result_2:.4f}\")\n",
        "print(f\"MAE of LinearRegression_3: {result_3:.4f}\")\n",
        "\n",
        "# print(f\"Difference : {result_2 - result_1:.4f}\")"
      ]
    },
    {
      "cell_type": "markdown",
      "metadata": {
        "id": "I8EnQQxfFNak"
      },
      "source": [
        "### Lasso"
      ]
    },
    {
      "cell_type": "code",
      "execution_count": null,
      "metadata": {
        "colab": {
          "base_uri": "https://localhost:8080/"
        },
        "id": "gD8i_HW4CLK9",
        "outputId": "3ff77cf5-fd89-43dd-d989-0715649380fd"
      },
      "outputs": [
        {
          "name": "stdout",
          "output_type": "stream",
          "text": [
            "MAE of Lasso_1: 0.1261\n",
            "MAE of Lasso_2: 0.1261\n",
            "MAE of Lasso_3: 0.1656\n"
          ]
        }
      ],
      "source": [
        "result_1 = check_error(Lasso(), train_1)\n",
        "result_2 = check_error(Lasso(), train_2)\n",
        "result_3 = check_error(Lasso(), train_3)\n",
        "\n",
        "print(f\"MAE of Lasso_1: {result_1:.4f}\")\n",
        "print(f\"MAE of Lasso_2: {result_2:.4f}\")\n",
        "print(f\"MAE of Lasso_3: {result_3:.4f}\")\n",
        "\n",
        "\n",
        "# print(f\"Difference : {result_2 - result_1:.4f}\")"
      ]
    },
    {
      "cell_type": "markdown",
      "metadata": {
        "id": "XayTBlaDFPuc"
      },
      "source": [
        "### Ridge"
      ]
    },
    {
      "cell_type": "code",
      "execution_count": null,
      "metadata": {
        "colab": {
          "base_uri": "https://localhost:8080/"
        },
        "id": "WVIMnoP3T5WM",
        "outputId": "0213df39-c47e-4185-9376-fa7511f4f2ad"
      },
      "outputs": [
        {
          "name": "stderr",
          "output_type": "stream",
          "text": [
            "/Users/moonseokmin/miniforge3/envs/krc/lib/python3.8/site-packages/sklearn/linear_model/_ridge.py:157: LinAlgWarning: Ill-conditioned matrix (rcond=2.82674e-09): result may not be accurate.\n",
            "  return linalg.solve(A, Xy, sym_pos=True, overwrite_a=True).T\n",
            "/Users/moonseokmin/miniforge3/envs/krc/lib/python3.8/site-packages/sklearn/linear_model/_ridge.py:157: LinAlgWarning: Ill-conditioned matrix (rcond=2.87965e-09): result may not be accurate.\n",
            "  return linalg.solve(A, Xy, sym_pos=True, overwrite_a=True).T\n"
          ]
        },
        {
          "name": "stdout",
          "output_type": "stream",
          "text": [
            "MAE of Ridge_1: 0.0968\n",
            "MAE of Ridge_2: 0.1049\n",
            "MAE of Ridge_3: 0.1060\n"
          ]
        }
      ],
      "source": [
        "result_1 = check_error(Ridge(), train_1)\n",
        "result_2 = check_error(Ridge(), train_2)\n",
        "result_3 = check_error(Ridge(), train_3)\n",
        "\n",
        "print(f\"MAE of Ridge_1: {result_1:.4f}\")\n",
        "print(f\"MAE of Ridge_2: {result_2:.4f}\")\n",
        "print(f\"MAE of Ridge_3: {result_3:.4f}\")\n",
        "\n",
        "# print(f\"Difference : {result_2 - result_1:.4f}\")"
      ]
    },
    {
      "cell_type": "markdown",
      "metadata": {
        "id": "DUiWaNVLFRqh"
      },
      "source": [
        "### lightGBM"
      ]
    },
    {
      "cell_type": "code",
      "execution_count": null,
      "metadata": {
        "colab": {
          "base_uri": "https://localhost:8080/"
        },
        "id": "LUGN-i51UHXj",
        "outputId": "efb3d3c9-7e57-4366-81f9-cd81d0b45dfd"
      },
      "outputs": [
        {
          "output_type": "stream",
          "name": "stdout",
          "text": [
            "MAE of LGBMRegressor_1: 0.0638\n",
            "MAE of LGBMRegressor_2: 0.0681\n",
            "MAE of LGBMRegressor_3: 0.0808\n"
          ]
        }
      ],
      "source": [
        "result_1 = check_error(LGBMRegressor(), train_1)\n",
        "result_2 = check_error(LGBMRegressor(), train_2)\n",
        "result_3 = check_error(LGBMRegressor(), train_3)\n",
        "\n",
        "\n",
        "print(f\"MAE of LGBMRegressor_1: {result_1:.4f}\")\n",
        "print(f\"MAE of LGBMRegressor_2: {result_2:.4f}\")\n",
        "print(f\"MAE of LGBMRegressor_3: {result_3:.4f}\")\n",
        "\n",
        "# print(f\"Difference : {result_2 - result_1:.4f}\")"
      ]
    },
    {
      "cell_type": "markdown",
      "metadata": {
        "id": "vNJqHbmZVQnD"
      },
      "source": [
        "## 3차 전처리 데이터 분석.\n",
        "\n",
        "    => 팀원들과의 회의와 다양한 방식의 EDA, 전처리방식을 적용하여 데이터를 처리하고 모델링에 적용하였지만 1 -> 2 -> 3로 갈수록 모델의 예측성능(학습데이터)이 나빠지는 것을 확인 할 수 있었다. \n",
        "    \n",
        "    \n",
        "    => 우선, 가장 기본적으로 matchId, groupId로 묶어서 4차 전처리 진행, 해당 csv로 모델 성능개선 작업을 진행하면서 앞서 모였던 팀원들의 아이디어를 좀 더 유연하게 데이터 전처리에 녹이는 작업을 진행할 것임."
      ]
    }
  ],
  "metadata": {
    "colab": {
      "collapsed_sections": [],
      "name": "Modeling_3차_0614.ipynb",
      "provenance": [],
      "include_colab_link": true
    },
    "kernelspec": {
      "display_name": "Python 3 (ipykernel)",
      "language": "python",
      "name": "python3"
    },
    "language_info": {
      "codemirror_mode": {
        "name": "ipython",
        "version": 3
      },
      "file_extension": ".py",
      "mimetype": "text/x-python",
      "name": "python",
      "nbconvert_exporter": "python",
      "pygments_lexer": "ipython3",
      "version": "3.8.13"
    }
  },
  "nbformat": 4,
  "nbformat_minor": 0
}